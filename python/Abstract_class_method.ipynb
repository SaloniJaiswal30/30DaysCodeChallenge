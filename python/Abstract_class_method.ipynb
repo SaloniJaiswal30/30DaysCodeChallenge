{
 "cells": [
  {
   "cell_type": "code",
   "execution_count": 1,
   "metadata": {},
   "outputs": [
    {
     "name": "stdout",
     "output_type": "stream",
     "text": [
      "78.5\n",
      "100\n"
     ]
    }
   ],
   "source": [
    "#Abstract class\n",
    "from abc import ABC\n",
    "class shape(ABC):\n",
    "    def area(self,value):\n",
    "        pass\n",
    "class circle(shape):\n",
    "    def area(self,value):\n",
    "        print(3.14*value**2)\n",
    "class square(shape):\n",
    "    def area(self,value):\n",
    "        print(value**2)\n",
    "c=circle()\n",
    "c.area(5)\n",
    "s=square()\n",
    "s.area(10)"
   ]
  },
  {
   "cell_type": "code",
   "execution_count": 2,
   "metadata": {},
   "outputs": [
    {
     "name": "stdout",
     "output_type": "stream",
     "text": [
      "Cold\n",
      "Hot\n"
     ]
    }
   ],
   "source": [
    "#abstract method\n",
    "from abc import ABC, abstractmethod\n",
    "class abstract_method(ABC):\n",
    "    @abstractmethod\n",
    "    def icecream(self):\n",
    "        pass\n",
    "    @abstractmethod\n",
    "    def noodles(self):\n",
    "        pass\n",
    "class implement(abstract_method):\n",
    "    def icecream(self):\n",
    "        print(\"Cold\")\n",
    "    def noodles(self):\n",
    "        print(\"Hot\")\n",
    "i=implement()\n",
    "i.icecream()\n",
    "i.noodles()"
   ]
  },
  {
   "cell_type": "code",
   "execution_count": null,
   "metadata": {},
   "outputs": [],
   "source": []
  },
  {
   "cell_type": "code",
   "execution_count": null,
   "metadata": {},
   "outputs": [],
   "source": []
  },
  {
   "cell_type": "code",
   "execution_count": null,
   "metadata": {},
   "outputs": [],
   "source": []
  }
 ],
 "metadata": {
  "kernelspec": {
   "display_name": "Python 3",
   "language": "python",
   "name": "python3"
  },
  "language_info": {
   "codemirror_mode": {
    "name": "ipython",
    "version": 3
   },
   "file_extension": ".py",
   "mimetype": "text/x-python",
   "name": "python",
   "nbconvert_exporter": "python",
   "pygments_lexer": "ipython3",
   "version": "3.6.4"
  }
 },
 "nbformat": 4,
 "nbformat_minor": 4
}
