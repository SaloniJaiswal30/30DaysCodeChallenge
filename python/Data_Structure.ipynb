{
 "cells": [
  {
   "cell_type": "code",
   "execution_count": 2,
   "metadata": {},
   "outputs": [
    {
     "name": "stderr",
     "output_type": "stream",
     "text": [
      "Python 3.6.4 :: Anaconda custom (64-bit)\n"
     ]
    }
   ],
   "source": [
    "import sys\n",
    "!{sys.executable} --version"
   ]
  },
  {
   "cell_type": "code",
   "execution_count": 8,
   "metadata": {},
   "outputs": [
    {
     "name": "stdout",
     "output_type": "stream",
     "text": [
      "[1, 2, 3]\n",
      "[1, 2]\n",
      "[1]\n",
      "[]\n"
     ]
    }
   ],
   "source": [
    "#stack\n",
    "s=[]\n",
    "s.append(1)\n",
    "s.append(2)\n",
    "s.append(3)\n",
    "print(s)\n",
    "while(len(s)>0): #s!=[]\n",
    "    s.pop()\n",
    "    print(s)"
   ]
  },
  {
   "cell_type": "code",
   "execution_count": 6,
   "metadata": {},
   "outputs": [
    {
     "name": "stdout",
     "output_type": "stream",
     "text": [
      "deque([1, 32, 1, 43])\n",
      "43\n",
      "deque([1, 32, 1])\n",
      "1\n",
      "deque([1, 32])\n",
      "32\n",
      "deque([1])\n",
      "1\n",
      "deque([])\n"
     ]
    }
   ],
   "source": [
    "#implementing stack using collections\n",
    "from collections import deque\n",
    "s=deque()\n",
    "s.append(1)\n",
    "s.append(32)\n",
    "s.append(1)\n",
    "s.append(43)\n",
    "print(s)\n",
    "while(len(s)!=0):\n",
    "    print(s.pop())\n",
    "    print(s)"
   ]
  },
  {
   "cell_type": "code",
   "execution_count": 7,
   "metadata": {},
   "outputs": [
    {
     "name": "stdout",
     "output_type": "stream",
     "text": [
      "deque([43, 1, 32, 1])\n",
      "1\n",
      "deque([43, 1, 32])\n",
      "32\n",
      "deque([43, 1])\n",
      "1\n",
      "deque([43])\n",
      "43\n",
      "deque([])\n"
     ]
    }
   ],
   "source": [
    "#implementing queue using collections\n",
    "from collections import deque\n",
    "q=deque()\n",
    "q.appendleft(1)\n",
    "q.appendleft(32)\n",
    "q.appendleft(1)\n",
    "q.appendleft(43)\n",
    "print(q)\n",
    "while(len(q)!=0):\n",
    "    print(q.pop())\n",
    "    print(q)"
   ]
  },
  {
   "cell_type": "code",
   "execution_count": 10,
   "metadata": {},
   "outputs": [
    {
     "name": "stdout",
     "output_type": "stream",
     "text": [
      "[1, 2, 3]\n",
      "[2, 3]\n",
      "[3]\n",
      "[]\n"
     ]
    }
   ],
   "source": [
    "#queue\n",
    "q=[]\n",
    "q.append(1)\n",
    "q.append(2)\n",
    "q.append(3)\n",
    "print(q)\n",
    "while(len(q)>0): #q!=[]\n",
    "    q.pop(0)\n",
    "    print(q)"
   ]
  },
  {
   "cell_type": "code",
   "execution_count": 24,
   "metadata": {},
   "outputs": [
    {
     "name": "stdout",
     "output_type": "stream",
     "text": [
      "[13, 5, 2, 9, 10]\n",
      "[2, 5, 13, 9, 10]\n",
      "[2, 5, 13, 9, 10, 23]\n",
      "--pop--\n",
      "2\n",
      "[5, 9, 13, 23, 10]\n",
      "5\n",
      "[9, 10, 13, 23]\n",
      "9\n",
      "[10, 23, 13]\n",
      "10\n",
      "[13, 23]\n",
      "13\n",
      "[23]\n",
      "23\n",
      "[]\n"
     ]
    }
   ],
   "source": [
    "#minheap default in python\n",
    "import heapq\n",
    "l=[13,5,2,9,10]\n",
    "print(l)\n",
    "heapq.heapify(l)\n",
    "print(l)\n",
    "heapq.heappush(l,23)\n",
    "print(l)\n",
    "print(\"--pop--\")\n",
    "while(l!=[]):\n",
    "    print(heapq.heappop(l))\n",
    "    print(l)\n"
   ]
  },
  {
   "cell_type": "code",
   "execution_count": 2,
   "metadata": {},
   "outputs": [
    {
     "name": "stdout",
     "output_type": "stream",
     "text": [
      "[-13, -5, -2, -9, -10]\n",
      "[13, 10, 2, 9, 5]\n",
      "[23, 10, 13, 9, 5, 2]\n",
      "--pop--\n",
      "23\n",
      "[13, 10, 2, 9, 5]\n",
      "13\n",
      "[10, 9, 2, 5]\n",
      "10\n",
      "[9, 5, 2]\n",
      "9\n",
      "[5, 2]\n",
      "5\n",
      "[2]\n",
      "2\n",
      "[]\n"
     ]
    }
   ],
   "source": [
    "#maxheap in python made by minheap\n",
    "import heapq\n",
    "l=[13,5,2,9,10]\n",
    "l=[-1*i for i in l]\n",
    "print(l)\n",
    "heapq.heapify(l)\n",
    "print([-1*i for i in l])\n",
    "heapq.heappush(l,-1*23)\n",
    "print([-1*i for i in l])\n",
    "print(\"--pop--\")\n",
    "while(l!=[]):\n",
    "    print(-1*heapq.heappop(l))\n",
    "    print([-1*i for i in l])"
   ]
  },
  {
   "cell_type": "code",
   "execution_count": 3,
   "metadata": {},
   "outputs": [
    {
     "name": "stdout",
     "output_type": "stream",
     "text": [
      "43\n",
      "0\n",
      "1\n",
      "432\n",
      "42\n",
      "23\n"
     ]
    }
   ],
   "source": [
    "#linklist insert at beginning\n",
    "class node:\n",
    "    def __init__(self,value,next=None):\n",
    "        self.value=value\n",
    "        self.next=next\n",
    "class linklist:\n",
    "    def __init__(self):\n",
    "        self.head=None\n",
    "    def insert_beginning(self,data):\n",
    "        node1=node(data)\n",
    "        node1.next=self.head\n",
    "        self.head=node1\n",
    "    def printf(self):\n",
    "        while(self.head!=None):\n",
    "            print(self.head.value)\n",
    "            self.head=self.head.next\n",
    "l=linklist()\n",
    "l.insert_beginning(23)\n",
    "l.insert_beginning(42)\n",
    "l.insert_beginning(432)\n",
    "l.insert_beginning(1)\n",
    "l.insert_beginning(0)\n",
    "l.insert_beginning(43)\n",
    "l.printf()\n",
    "                "
   ]
  },
  {
   "cell_type": "code",
   "execution_count": 4,
   "metadata": {},
   "outputs": [
    {
     "name": "stdout",
     "output_type": "stream",
     "text": [
      "23\n",
      "42\n",
      "432\n",
      "1\n",
      "0\n",
      "43\n"
     ]
    }
   ],
   "source": [
    "#linklist insert at end\n",
    "class node:\n",
    "    def __init__(self,value,next=None):\n",
    "        self.value=value\n",
    "        self.next=next\n",
    "class linklist:\n",
    "    def __init__(self):\n",
    "        self.head=None\n",
    "        self.tmp=None\n",
    "    def insert_beginning(self,data):\n",
    "        node1=node(data)\n",
    "        if(self.head==None):\n",
    "            self.head=node1\n",
    "            self.tmp=node1\n",
    "        else:\n",
    "            self.tmp.next=node1\n",
    "        self.tmp=node1   \n",
    "        \n",
    "    def printf(self):\n",
    "        self.tmp1=self.head\n",
    "        while(self.tmp1!=None):\n",
    "            print(self.tmp1.value)\n",
    "            self.tmp1=self.tmp1.next\n",
    "l=linklist()\n",
    "l.insert_beginning(23)\n",
    "l.insert_beginning(42)\n",
    "l.insert_beginning(432)\n",
    "l.insert_beginning(1)\n",
    "l.insert_beginning(0)\n",
    "l.insert_beginning(43)\n",
    "l.printf()"
   ]
  },
  {
   "cell_type": "code",
   "execution_count": null,
   "metadata": {},
   "outputs": [],
   "source": []
  },
  {
   "cell_type": "code",
   "execution_count": null,
   "metadata": {},
   "outputs": [],
   "source": []
  }
 ],
 "metadata": {
  "kernelspec": {
   "display_name": "Python 3",
   "language": "python",
   "name": "python3"
  },
  "language_info": {
   "codemirror_mode": {
    "name": "ipython",
    "version": 3
   },
   "file_extension": ".py",
   "mimetype": "text/x-python",
   "name": "python",
   "nbconvert_exporter": "python",
   "pygments_lexer": "ipython3",
   "version": "3.6.4"
  }
 },
 "nbformat": 4,
 "nbformat_minor": 4
}
