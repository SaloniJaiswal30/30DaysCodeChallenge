{
  "nbformat": 4,
  "nbformat_minor": 0,
  "metadata": {
    "colab": {
      "name": "find_kth_symbol.ipynb",
      "provenance": [],
      "collapsed_sections": []
    },
    "kernelspec": {
      "name": "python3",
      "display_name": "Python 3"
    },
    "language_info": {
      "name": "python"
    }
  },
  "cells": [
    {
      "cell_type": "code",
      "metadata": {
        "colab": {
          "base_uri": "https://localhost:8080/"
        },
        "id": "K16ooYG8ZsP-",
        "outputId": "bbda8eb0-a2d9-4dfd-91e6-7299ce5fe541"
      },
      "source": [
        "#kth sysmbol in Grammar\n",
        "def Kth_symbol(n,k):\n",
        "    if(n==1 or k==1):\n",
        "      return 0\n",
        "    mid=(2**(n-1))/2\n",
        "    if(k<=mid):\n",
        "      return Kth_symbol(n-1,k)\n",
        "    else:\n",
        "      return not(Kth_symbol(n-1,k-mid))\n",
        "\n",
        "print(Kth_symbol(4,5))"
      ],
      "execution_count": 4,
      "outputs": [
        {
          "output_type": "stream",
          "text": [
            "True\n"
          ],
          "name": "stdout"
        }
      ]
    }
  ]
}