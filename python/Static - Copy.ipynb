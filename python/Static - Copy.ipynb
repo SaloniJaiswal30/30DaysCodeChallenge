{
 "cells": [
  {
   "cell_type": "code",
   "execution_count": 5,
   "metadata": {},
   "outputs": [
    {
     "name": "stdout",
     "output_type": "stream",
     "text": [
      "5\n",
      "5\n",
      "5\n",
      "-----------\n",
      "5\n",
      "10\n",
      "5\n",
      "-----------\n",
      "15\n",
      "10\n",
      "15\n",
      "-----------\n",
      "15\n",
      "10\n",
      "20\n"
     ]
    }
   ],
   "source": [
    "#static variable\n",
    "class state_var:\n",
    "    val=5;\n",
    "    def function1(self,value):\n",
    "        self.value=value\n",
    "    def function1(self,value):\n",
    "        self.value=value\n",
    "        print(\"function2\")\n",
    "s1=state_var()\n",
    "s2=state_var()\n",
    "print(state_var.val)\n",
    "print(s1.val)\n",
    "print(s2.val)\n",
    "print(\"-----------\")\n",
    "s1.val=10\n",
    "print(state_var.val)\n",
    "print(s1.val)\n",
    "print(s2.val)\n",
    "print(\"-----------\")\n",
    "state_var.val=15\n",
    "print(state_var.val)\n",
    "print(s1.val)\n",
    "print(s2.val)\n",
    "print(\"-----------\")\n",
    "s2.val=20\n",
    "print(state_var.val)\n",
    "print(s1.val)\n",
    "print(s2.val)"
   ]
  },
  {
   "cell_type": "code",
   "execution_count": 13,
   "metadata": {},
   "outputs": [
    {
     "name": "stdout",
     "output_type": "stream",
     "text": [
      "true\n"
     ]
    }
   ],
   "source": [
    "#static method\n",
    "class state_method:\n",
    "    def fun(value):\n",
    "        if (value>5):\n",
    "            print(\"true\")\n",
    "state_method.fun=staticmethod(state_method.fun)\n",
    "state_method.fun(10)\n",
    "        "
   ]
  },
  {
   "cell_type": "code",
   "execution_count": 65,
   "metadata": {},
   "outputs": [
    {
     "name": "stdout",
     "output_type": "stream",
     "text": [
      "true\n",
      "10\n"
     ]
    }
   ],
   "source": [
    "#static method decorator\n",
    "class state_method:\n",
    "    x=10\n",
    "    @staticmethod\n",
    "    def fun(value):\n",
    "        x=20;\n",
    "        if (value>5):\n",
    "            print(\"true\")\n",
    "\n",
    "state_method.fun(10)\n",
    "print(state_method.x)"
   ]
  },
  {
   "cell_type": "code",
   "execution_count": 70,
   "metadata": {},
   "outputs": [
    {
     "name": "stdout",
     "output_type": "stream",
     "text": [
      "10\n",
      "60\n",
      "560\n",
      "60\n",
      "1\n",
      "10\n"
     ]
    }
   ],
   "source": [
    "#class method decorator\n",
    "class clas_method:\n",
    "    value=10\n",
    "    __value1=30\n",
    "    def __init__(self):\n",
    "        self.tmp=10\n",
    "    @classmethod\n",
    "    def fun(cls,v):\n",
    "        cls.value=v*10\n",
    "        cls.__value1=1;\n",
    "        cls.tmp=30\n",
    "        \n",
    "s=clas_method()\n",
    "clas_method.fun(56)\n",
    "print(clas_method.value)\n",
    "print(s._clas_method__value1)\n",
    "print(s.tmp)\n"
   ]
  },
  {
   "cell_type": "code",
   "execution_count": null,
   "metadata": {},
   "outputs": [],
   "source": []
  },
  {
   "cell_type": "code",
   "execution_count": null,
   "metadata": {},
   "outputs": [],
   "source": []
  }
 ],
 "metadata": {
  "kernelspec": {
   "display_name": "Python 3",
   "language": "python",
   "name": "python3"
  },
  "language_info": {
   "codemirror_mode": {
    "name": "ipython",
    "version": 3
   },
   "file_extension": ".py",
   "mimetype": "text/x-python",
   "name": "python",
   "nbconvert_exporter": "python",
   "pygments_lexer": "ipython3",
   "version": "3.6.4"
  }
 },
 "nbformat": 4,
 "nbformat_minor": 4
}
