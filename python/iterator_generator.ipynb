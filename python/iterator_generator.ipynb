{
 "cells": [
  {
   "cell_type": "code",
   "execution_count": 1,
   "metadata": {},
   "outputs": [
    {
     "name": "stdout",
     "output_type": "stream",
     "text": [
      "2\n",
      "4\n",
      "6\n",
      "54\n"
     ]
    }
   ],
   "source": [
    "#generators\n",
    "def generate(l):\n",
    "    for i in l:\n",
    "        if(i%2==0):\n",
    "            yield i\n",
    "l=[2,4,3,5,6,7,243,54]\n",
    "for i in generate(l):\n",
    "    print(i)\n"
   ]
  },
  {
   "cell_type": "code",
   "execution_count": 3,
   "metadata": {},
   "outputs": [
    {
     "name": "stdout",
     "output_type": "stream",
     "text": [
      "First String\n",
      "sent first\n",
      "Second string\n",
      "sent Second\n",
      "Third String\n"
     ]
    }
   ],
   "source": [
    "def multiple_yield():  \n",
    "    str1 = \"First String\"  \n",
    "    yield str1  \n",
    "    print(\"sent first\")\n",
    "    str2 = \"Second string\"  \n",
    "    yield str2  \n",
    "    print(\"sent Second\")  \n",
    "    str3 = \"Third String\"  \n",
    "    yield str3  \n",
    "    print(\"sent Third\")\n",
    "obj = multiple_yield()  \n",
    "print(next(obj))  \n",
    "print(next(obj))  \n",
    "print(next(obj))  "
   ]
  },
  {
   "cell_type": "code",
   "execution_count": 6,
   "metadata": {},
   "outputs": [
    {
     "name": "stdout",
     "output_type": "stream",
     "text": [
      "<generator object <genexpr> at 0x0000022D4BD58150>\n",
      "0\n",
      "2\n",
      "4\n",
      "6\n",
      "8\n",
      "10\n",
      "12\n",
      "14\n",
      "16\n",
      "18\n",
      "[0, 2, 4, 6, 8, 10, 12, 14, 16, 18]\n"
     ]
    }
   ],
   "source": [
    "gen=(i*2 for i in range(10))\n",
    "print(gen)\n",
    "for i in gen:\n",
    "    print(i)\n",
    "l=[i*2 for i in range(10)]\n",
    "print(l)"
   ]
  },
  {
   "cell_type": "code",
   "execution_count": 5,
   "metadata": {},
   "outputs": [
    {
     "name": "stdout",
     "output_type": "stream",
     "text": [
      "43\n",
      "21\n",
      "54\n",
      "312\n",
      "65\n"
     ]
    }
   ],
   "source": [
    "#iterator\n",
    "l=[43,21,54,312,65,123]\n",
    "iterate=iter(l)\n",
    "print(next(iterate))\n",
    "print(next(iterate))\n",
    "print(next(iterate))\n",
    "print(next(iterate))\n",
    "print(next(iterate))"
   ]
  },
  {
   "cell_type": "code",
   "execution_count": null,
   "metadata": {},
   "outputs": [],
   "source": []
  }
 ],
 "metadata": {
  "kernelspec": {
   "display_name": "Python 3",
   "language": "python",
   "name": "python3"
  },
  "language_info": {
   "codemirror_mode": {
    "name": "ipython",
    "version": 3
   },
   "file_extension": ".py",
   "mimetype": "text/x-python",
   "name": "python",
   "nbconvert_exporter": "python",
   "pygments_lexer": "ipython3",
   "version": "3.6.4"
  }
 },
 "nbformat": 4,
 "nbformat_minor": 4
}
