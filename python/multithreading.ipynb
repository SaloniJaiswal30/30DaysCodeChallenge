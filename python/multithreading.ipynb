{
 "cells": [
  {
   "cell_type": "code",
   "execution_count": 1,
   "metadata": {},
   "outputs": [
    {
     "name": "stdout",
     "output_type": "stream",
     "text": [
      "25\n",
      "3\n",
      "4\n",
      "\n",
      "6\n",
      "7\n"
     ]
    }
   ],
   "source": [
    "#basic threads\n",
    "from threading import Thread\n",
    "def thread_demo(*args):\n",
    "    for i in args:\n",
    "        print(i,end=\"\\n\")\n",
    "thread=Thread(target=thread_demo,args=[2,3,4])\n",
    "thread1=Thread(target=thread_demo,args=[5,6,7])\n",
    "thread.start() # without start() thread wont start\n",
    "#print(\"below thread\",end=\"\\n\")\n",
    "thread1.start()\n",
    "#print(\"below thread1\",end=\"\\n\")\n",
    "#thread.join() # wait till thread finishes\n"
   ]
  },
  {
   "cell_type": "code",
   "execution_count": 14,
   "metadata": {},
   "outputs": [
    {
     "name": "stdout",
     "output_type": "stream",
     "text": [
      "21\n",
      "3151\n",
      "61\n",
      "71\n",
      "\n",
      "41\n"
     ]
    }
   ],
   "source": [
    "#Use locks in threads\n",
    "from threading import Lock,Thread\n",
    "lock=Lock()\n",
    "def thread_demo(*args):\n",
    "    for i in args:\n",
    "        lock.acquire()\n",
    "        print(i+1,end=\"\\n\")\n",
    "        lock.release()\n",
    "thread=Thread(target=thread_demo,args=[2,3,4])\n",
    "thread1=Thread(target=thread_demo,args=[5,6,7])\n",
    "thread.start() # without start() thread wont start\n",
    "thread1.start()\n",
    "#thread.join() # wait till thread finishes\n"
   ]
  },
  {
   "cell_type": "code",
   "execution_count": 3,
   "metadata": {},
   "outputs": [
    {
     "name": "stdout",
     "output_type": "stream",
     "text": [
      "between\n",
      "0  strted\n",
      "1  strted\n",
      "2  strted\n",
      "3  strted\n",
      "4  strted\n",
      "done\n"
     ]
    }
   ],
   "source": [
    "#threads using queue\n",
    "from threading import Thread\n",
    "import queue\n",
    "q=queue.Queue()\n",
    "def thread_demo(*args):\n",
    "   while(True):\n",
    "    project=q.get()\n",
    "    print(project,\" strted\")\n",
    "    q.task_done()\n",
    "thread=Thread(target=thread_demo,daemon=True).start()\n",
    "for project in range(5):\n",
    "    q.put(project)\n",
    "print(\"between\")\n",
    "q.join()\n",
    "print(\"done\")\n"
   ]
  },
  {
   "cell_type": "code",
   "execution_count": 4,
   "metadata": {},
   "outputs": [
    {
     "name": "stdout",
     "output_type": "stream",
     "text": [
      "this is thread T 0\n",
      "this is Main Thread\n",
      "this is thread T 1\n",
      "this is thread T 2\n",
      "this is thread T 3\n",
      "this is thread T 4\n"
     ]
    }
   ],
   "source": [
    "#Use Non-deomon thread\n",
    "import threading\n",
    "import time\n",
    "  \n",
    "def thread1():                      \n",
    "  for i in range(5):\n",
    "    print('this is thread T',i)\n",
    "    time.sleep(3)\n",
    "\n",
    "T = threading.Thread(target = thread1)  \n",
    "T.start()    \n",
    "print('this is Main Thread')  "
   ]
  },
  {
   "cell_type": "code",
   "execution_count": 7,
   "metadata": {},
   "outputs": [
    {
     "name": "stdout",
     "output_type": "stream",
     "text": [
      "this is thread T 0\n",
      "this is Main Thread\n"
     ]
    }
   ],
   "source": [
    "#Use deomon thread\n",
    "import threading\n",
    "import time\n",
    "  \n",
    "def thread1():                      \n",
    "  for i in range(5):\n",
    "    print('this is thread T',i)\n",
    "    time.sleep(3)\n",
    "\n",
    "T1 = threading.Thread(target = thread1) \n",
    "T1.setDaemon(True)                   \n",
    "T1.start()    \n",
    "print('this is Main Thread')  "
   ]
  },
  {
   "cell_type": "code",
   "execution_count": null,
   "metadata": {},
   "outputs": [],
   "source": []
  },
  {
   "cell_type": "code",
   "execution_count": null,
   "metadata": {},
   "outputs": [],
   "source": []
  },
  {
   "cell_type": "code",
   "execution_count": null,
   "metadata": {},
   "outputs": [],
   "source": []
  },
  {
   "cell_type": "code",
   "execution_count": null,
   "metadata": {},
   "outputs": [],
   "source": []
  }
 ],
 "metadata": {
  "kernelspec": {
   "display_name": "Python 3",
   "language": "python",
   "name": "python3"
  },
  "language_info": {
   "codemirror_mode": {
    "name": "ipython",
    "version": 3
   },
   "file_extension": ".py",
   "mimetype": "text/x-python",
   "name": "python",
   "nbconvert_exporter": "python",
   "pygments_lexer": "ipython3",
   "version": "3.6.4"
  }
 },
 "nbformat": 4,
 "nbformat_minor": 4
}
