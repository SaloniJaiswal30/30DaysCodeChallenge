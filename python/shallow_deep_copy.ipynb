{
 "cells": [
  {
   "cell_type": "code",
   "execution_count": 17,
   "metadata": {},
   "outputs": [
    {
     "name": "stdout",
     "output_type": "stream",
     "text": [
      "1395687051656\n",
      "1395687051656\n"
     ]
    }
   ],
   "source": [
    "#bydefault list does deep copy\n",
    "l=[2,5,6,8,4,6]\n",
    "r=l\n",
    "print(id(l))\n",
    "print(id(r))"
   ]
  },
  {
   "cell_type": "code",
   "execution_count": 18,
   "metadata": {},
   "outputs": [
    {
     "name": "stdout",
     "output_type": "stream",
     "text": [
      "[2, 5, 6, 8, 4, 6]\n",
      "[2, 5, 5, 8, 4, 6]\n"
     ]
    }
   ],
   "source": [
    "#shallow copy(it will make reference of list object different but same reference for the elements inside it)\n",
    "import copy\n",
    "old=[2,5,6,8,4,6]\n",
    "new=copy.copy(old)\n",
    "old[2]=5\n",
    "print(new)\n",
    "print(old)"
   ]
  },
  {
   "cell_type": "code",
   "execution_count": 19,
   "metadata": {},
   "outputs": [
    {
     "name": "stdout",
     "output_type": "stream",
     "text": [
      "[2, 5, [5, 8], 4, 6]\n",
      "[2, 5, [5, 8], 4, 6]\n"
     ]
    }
   ],
   "source": [
    "#shallow copy\n",
    "import copy\n",
    "old=[2,5,[6,8],4,6]\n",
    "new=copy.copy(old)\n",
    "old[2][0]=5\n",
    "print(new)\n",
    "print(old)"
   ]
  },
  {
   "cell_type": "code",
   "execution_count": 15,
   "metadata": {},
   "outputs": [
    {
     "name": "stdout",
     "output_type": "stream",
     "text": [
      "[2, 5, [6, 8], 4, 6]\n",
      "[2, 5, [5, 8], 4, 6]\n"
     ]
    }
   ],
   "source": [
    "#deep copy\n",
    "import copy\n",
    "old=[2,5,[6,8],4,6]\n",
    "new=copy.deepcopy(old)\n",
    "old[2][0]=5\n",
    "print(new)\n",
    "print(old)"
   ]
  },
  {
   "cell_type": "code",
   "execution_count": null,
   "metadata": {},
   "outputs": [],
   "source": []
  }
 ],
 "metadata": {
  "kernelspec": {
   "display_name": "Python 3",
   "language": "python",
   "name": "python3"
  },
  "language_info": {
   "codemirror_mode": {
    "name": "ipython",
    "version": 3
   },
   "file_extension": ".py",
   "mimetype": "text/x-python",
   "name": "python",
   "nbconvert_exporter": "python",
   "pygments_lexer": "ipython3",
   "version": "3.6.4"
  }
 },
 "nbformat": 4,
 "nbformat_minor": 4
}
