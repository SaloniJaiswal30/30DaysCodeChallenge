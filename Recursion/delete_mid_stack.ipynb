{
  "nbformat": 4,
  "nbformat_minor": 0,
  "metadata": {
    "colab": {
      "name": "delete_mid_stack.ipynb",
      "provenance": [],
      "collapsed_sections": []
    },
    "kernelspec": {
      "name": "python3",
      "display_name": "Python 3"
    },
    "language_info": {
      "name": "python"
    }
  },
  "cells": [
    {
      "cell_type": "code",
      "metadata": {
        "colab": {
          "base_uri": "https://localhost:8080/"
        },
        "id": "K16ooYG8ZsP-",
        "outputId": "7ea89f8b-9ee3-4fdd-a1c6-97a62f64bc82"
      },
      "source": [
        "from collections import deque\n",
        "def delete_mid(q,n):\n",
        "    #print(n)\n",
        "    if(len(q)==n):\n",
        "      q.pop()\n",
        "      return\n",
        "    tmp=q[-1]\n",
        "    q.pop()\n",
        "    delete_mid(q,n)\n",
        "    q.append(tmp)\n",
        "\n",
        "#x=list(map(int,input().split()))\n",
        "x=[2,3,5,1,6]\n",
        "q=deque()\n",
        "for i in x:\n",
        "  q.append(i)\n",
        "delete_mid(q,int((len(q)/2)+1))\n",
        "print(q)"
      ],
      "execution_count": 13,
      "outputs": [
        {
          "output_type": "stream",
          "text": [
            "deque([2, 3, 1, 6])\n"
          ],
          "name": "stdout"
        }
      ]
    }
  ]
}