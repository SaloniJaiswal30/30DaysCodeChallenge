{
  "nbformat": 4,
  "nbformat_minor": 0,
  "metadata": {
    "colab": {
      "name": "palindromic_point.ipynb",
      "provenance": [],
      "collapsed_sections": []
    },
    "kernelspec": {
      "name": "python3",
      "display_name": "Python 3"
    },
    "language_info": {
      "name": "python"
    }
  },
  "cells": [
    {
      "cell_type": "code",
      "metadata": {
        "colab": {
          "base_uri": "https://localhost:8080/"
        },
        "id": "K16ooYG8ZsP-",
        "outputId": "e29deb3c-7088-409a-8e29-95fa66b6964a"
      },
      "source": [
        "#add the number by its own and return when the number becomes palindrome\n",
        "def reverse(n):\n",
        "  s=str(n)\n",
        "  s=s[::-1]\n",
        "  return int(s)\n",
        "def palindrome(n):\n",
        "    rev=reverse(n)\n",
        "    if(n==rev):\n",
        "      return n\n",
        "    tmp=n+rev\n",
        "    return palindrome(n+rev)\n",
        "\n",
        "print(palindrome(195))"
      ],
      "execution_count": 9,
      "outputs": [
        {
          "output_type": "stream",
          "text": [
            "9339\n"
          ],
          "name": "stdout"
        }
      ]
    }
  ]
}