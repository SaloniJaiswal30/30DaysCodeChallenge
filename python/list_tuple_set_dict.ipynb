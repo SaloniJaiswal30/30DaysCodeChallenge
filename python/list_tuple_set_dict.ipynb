{
 "cells": [
  {
   "cell_type": "code",
   "execution_count": 56,
   "metadata": {},
   "outputs": [
    {
     "name": "stdout",
     "output_type": "stream",
     "text": [
      "['h', 'u', 'm', 'a', 'n', 's']\n"
     ]
    }
   ],
   "source": [
    "#List\n",
    "l=[t for t in 'humans']\n",
    "print(l)"
   ]
  },
  {
   "cell_type": "code",
   "execution_count": 57,
   "metadata": {},
   "outputs": [
    {
     "name": "stdout",
     "output_type": "stream",
     "text": [
      "h u m a n s \n",
      "\n",
      "0 2 4 6 8 \n",
      "\n",
      "10 8 6 4 2 \n",
      "\n"
     ]
    }
   ],
   "source": [
    "for i in l:\n",
    "    print(i,end=\" \")\n",
    "print(\"\\n\")\n",
    "for i in range(0,10,2):\n",
    "    print(i,end=\" \")\n",
    "print(\"\\n\")\n",
    "for i in range(10,1,-2):\n",
    "    print(i,end=\" \")\n",
    "print(\"\\n\")"
   ]
  },
  {
   "cell_type": "code",
   "execution_count": 58,
   "metadata": {},
   "outputs": [
    {
     "name": "stdout",
     "output_type": "stream",
     "text": [
      "[243, 349, 'fds', 434, 'fd', 34]\n",
      "[243, 349, 34, '4f33', 'fd', 34]\n",
      "[34, '4f33']\n",
      "[34, '4f33', 'fd', 34]\n"
     ]
    }
   ],
   "source": [
    "l=[243,349,\"fds\",434,\"fd\",34]\n",
    "print(l)\n",
    "l[2:4]=[34,\"4f33\"]\n",
    "print(l)\n",
    "print(l[-4:-2])\n",
    "print(l[2:])"
   ]
  },
  {
   "cell_type": "code",
   "execution_count": 59,
   "metadata": {},
   "outputs": [
    {
     "name": "stdout",
     "output_type": "stream",
     "text": [
      "[243, 349, 34, '4f33', 'fd', 34, 'saloni']\n",
      "[243, 349, '4f33', 'fd', 34, 'saloni']\n",
      "True\n",
      "1\n",
      "4\n"
     ]
    }
   ],
   "source": [
    "l.append(\"saloni\")\n",
    "print(l)\n",
    "l.remove(34)\n",
    "print(l)\n",
    "print(34 in l)\n",
    "print(l.index(349))\n",
    "print(l.index(34,2,5))"
   ]
  },
  {
   "cell_type": "code",
   "execution_count": 66,
   "metadata": {},
   "outputs": [
    {
     "name": "stdout",
     "output_type": "stream",
     "text": [
      "1669406571248\n",
      "(1, 2, 3, 4, 5)\n"
     ]
    },
    {
     "ename": "AttributeError",
     "evalue": "'tuple' object has no attribute 'append'",
     "output_type": "error",
     "traceback": [
      "\u001b[1;31m---------------------------------------------------------------------------\u001b[0m",
      "\u001b[1;31mAttributeError\u001b[0m                            Traceback (most recent call last)",
      "\u001b[1;32m<ipython-input-66-d198aca74984>\u001b[0m in \u001b[0;36m<module>\u001b[1;34m\u001b[0m\n\u001b[0;32m      4\u001b[0m \u001b[0mprint\u001b[0m\u001b[1;33m(\u001b[0m\u001b[0mt\u001b[0m\u001b[1;33m)\u001b[0m\u001b[1;33m\u001b[0m\u001b[0m\n\u001b[0;32m      5\u001b[0m \u001b[1;31m#t[0]=4 // immutable\u001b[0m\u001b[1;33m\u001b[0m\u001b[1;33m\u001b[0m\u001b[0m\n\u001b[1;32m----> 6\u001b[1;33m \u001b[0mt\u001b[0m\u001b[1;33m.\u001b[0m\u001b[0mappend\u001b[0m\u001b[1;33m(\u001b[0m\u001b[1;36m9\u001b[0m\u001b[1;33m)\u001b[0m\u001b[1;33m\u001b[0m\u001b[0m\n\u001b[0m\u001b[0;32m      7\u001b[0m \u001b[0mprint\u001b[0m\u001b[1;33m(\u001b[0m\u001b[0mid\u001b[0m\u001b[1;33m(\u001b[0m\u001b[0mt\u001b[0m\u001b[1;33m)\u001b[0m\u001b[1;33m)\u001b[0m\u001b[1;33m\u001b[0m\u001b[0m\n\u001b[0;32m      8\u001b[0m \u001b[0mprint\u001b[0m\u001b[1;33m(\u001b[0m\u001b[0mt\u001b[0m\u001b[1;33m)\u001b[0m\u001b[1;33m\u001b[0m\u001b[0m\n",
      "\u001b[1;31mAttributeError\u001b[0m: 'tuple' object has no attribute 'append'"
     ]
    }
   ],
   "source": [
    "#tuple\n",
    "t=(1,2,3,4,5)\n",
    "print(id(t))\n",
    "print(t)\n",
    "t[0]=4 // immutable\n",
    "print(id(t))\n",
    "print(t)"
   ]
  },
  {
   "cell_type": "code",
   "execution_count": 67,
   "metadata": {},
   "outputs": [
    {
     "name": "stdout",
     "output_type": "stream",
     "text": [
      "{'dvz', '241', 'dsf', 'we'}\n",
      "1669373301704\n",
      "{'dvz', 'fre', 'fds', '241', 'dsf', 'we'}\n",
      "1669373301704\n",
      "{'fre', 'fds', '241', 'dsf', 'we'}\n",
      "{'fds', '241', 'dsf', 'we'}\n"
     ]
    }
   ],
   "source": [
    "#set\n",
    "s={\"we\",\"241\",\"dvz\",\"dsf\"} \n",
    "print(s)\n",
    "print(id(s))\n",
    "s.update({\"fre\",\"fds\"})\n",
    "print(s)\n",
    "print(id(s))\n",
    "s.pop()\n",
    "print(s)\n",
    "s.discard(\"fre\")\n",
    "print(s)\n"
   ]
  },
  {
   "cell_type": "code",
   "execution_count": 92,
   "metadata": {},
   "outputs": [
    {
     "name": "stdout",
     "output_type": "stream",
     "text": [
      "{'wsfs': 1, 'dzg': 2, 'gs': 3}\n",
      "2\n",
      "{'wsfs': 1, 'dzg': 2, 'gs': 3, 'saloni': 4, 'rohit': [22, 23, 23], 2: 'dsff'}\n",
      "{'wsfs': 1, 'dzg': 2, 'gs': 3, 'rohit': [22, 23, 23], 2: 'dsff'}\n",
      "wsfs 1\n",
      "dzg 2\n",
      "gs 3\n",
      "2 dsff\n",
      "1\n",
      "2\n",
      "3\n",
      "dsff\n",
      "dict_values([1, 2, 3, 'dsff'])\n",
      "wsfs 1\n",
      "dzg 2\n",
      "gs 3\n",
      "2 dsff\n"
     ]
    }
   ],
   "source": [
    "#dictionary\n",
    "dict={\"wsfs\":1,\"dzg\":2,\"gs\":3}\n",
    "print(dict)\n",
    "\n",
    "print(dict[\"dzg\"])\n",
    "\n",
    "dict[\"saloni\"]=4\n",
    "dict[\"rohit\"]=[22,23,23]\n",
    "dict[2]=\"dsff\"\n",
    "print(dict)\n",
    "\n",
    "del dict[\"saloni\"]\n",
    "print(dict)\n",
    "\n",
    "dict.pop(\"rohit\")\n",
    "\n",
    "for i in dict:\n",
    "    print(i,end=\" \")\n",
    "    print(dict[i])\n",
    "    \n",
    "for i in dict.values():\n",
    "    print(i)\n",
    "print(dict.values())\n",
    "\n",
    "for x,y in dict.items():\n",
    "    print(x,y)\n",
    "    \n",
    "#dict.has_key('wsfs')"
   ]
  },
  {
   "cell_type": "code",
   "execution_count": null,
   "metadata": {},
   "outputs": [],
   "source": []
  },
  {
   "cell_type": "code",
   "execution_count": null,
   "metadata": {},
   "outputs": [],
   "source": []
  }
 ],
 "metadata": {
  "kernelspec": {
   "display_name": "Python 3",
   "language": "python",
   "name": "python3"
  },
  "language_info": {
   "codemirror_mode": {
    "name": "ipython",
    "version": 3
   },
   "file_extension": ".py",
   "mimetype": "text/x-python",
   "name": "python",
   "nbconvert_exporter": "python",
   "pygments_lexer": "ipython3",
   "version": "3.6.4"
  }
 },
 "nbformat": 4,
 "nbformat_minor": 4
}
