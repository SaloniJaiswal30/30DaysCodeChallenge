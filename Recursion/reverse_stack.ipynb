{
  "nbformat": 4,
  "nbformat_minor": 0,
  "metadata": {
    "colab": {
      "name": "reverse_stack.ipynb",
      "provenance": [],
      "collapsed_sections": []
    },
    "kernelspec": {
      "name": "python3",
      "display_name": "Python 3"
    },
    "language_info": {
      "name": "python"
    }
  },
  "cells": [
    {
      "cell_type": "code",
      "metadata": {
        "colab": {
          "base_uri": "https://localhost:8080/"
        },
        "id": "K16ooYG8ZsP-",
        "outputId": "f2dbf15a-c207-45b8-913a-b7d67d758c09"
      },
      "source": [
        "from collections import deque\n",
        "def insert(q,ele):\n",
        "  if(len(q)==0):\n",
        "    q.append(ele)\n",
        "    return\n",
        "  tmp=q[-1]\n",
        "  q.pop()\n",
        "  insert(q,ele)\n",
        "  q.append(tmp)\n",
        "  \n",
        "def reverse_stack(q):\n",
        "    if(len(q)==0):\n",
        "      return\n",
        "    tmp=q[-1]\n",
        "    q.pop()\n",
        "    reverse_stack(q)\n",
        "    insert(q,tmp)\n",
        "\n",
        "#x=list(map(int,input().split()))\n",
        "x=[2,3,5,1,6]\n",
        "q=deque()\n",
        "for i in x:\n",
        "  q.append(i)\n",
        "reverse_stack(q)\n",
        "print(q)"
      ],
      "execution_count": 16,
      "outputs": [
        {
          "output_type": "stream",
          "text": [
            "deque([6, 1, 5, 3, 2])\n"
          ],
          "name": "stdout"
        }
      ]
    }
  ]
}