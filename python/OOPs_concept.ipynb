{
 "cells": [
  {
   "cell_type": "code",
   "execution_count": 26,
   "metadata": {},
   "outputs": [
    {
     "name": "stdout",
     "output_type": "stream",
     "text": [
      "second1\n",
      "saloni\n",
      "25\n",
      "-----------\n",
      "fourth\n",
      "second\n",
      "third\n",
      "second1\n"
     ]
    }
   ],
   "source": [
    "class Person:\n",
    "    #constructor\n",
    "    def __init__(self,name,age): \n",
    "        print(\"first1\")\n",
    "    def __init__(self,name,age): \n",
    "        print(\"second1\")\n",
    "        self.name=name\n",
    "        self.age=age\n",
    "    def show(self):\n",
    "        print(self.name)\n",
    "        print(self.age)\n",
    "        \n",
    "class kid1(Person):\n",
    "    name=\"fdfz\"\n",
    "    age=25\n",
    "    def __init__(self,name,age): \n",
    "        print(\"second\")\n",
    "        super().__init__(name,age)\n",
    "    def show(self):\n",
    "        print(self.name)\n",
    "        print(self.age)\n",
    "        \n",
    "class kid2(Person):\n",
    "    name=\"cdsc\"\n",
    "    age=25\n",
    "    def __init__(self,name,age): \n",
    "        print(\"third\")\n",
    "        super().__init__(name,age)\n",
    "    def show(self):\n",
    "        print(self.name)\n",
    "        print(self.age)\n",
    "        \n",
    "class multiple(kid1,kid2):\n",
    "    def __init__(self,name,age): \n",
    "        print(\"fourth\")\n",
    "        super().__init__(name,age)\n",
    "p1=Person(\"saloni\",25)\n",
    "p1.show()\n",
    "del p1.age\n",
    "del p1\n",
    "print(\"-----------\")\n",
    "m1=multiple(\"saloni\",25)\n",
    "#m1.show()"
   ]
  },
  {
   "cell_type": "code",
   "execution_count": 43,
   "metadata": {},
   "outputs": [
    {
     "name": "stdout",
     "output_type": "stream",
     "text": [
      "cuboid red 40\n",
      "cube\n",
      "20\n"
     ]
    },
    {
     "ename": "AttributeError",
     "evalue": "'child' object has no attribute '_child__color'",
     "output_type": "error",
     "traceback": [
      "\u001b[1;31m---------------------------------------------------------------------------\u001b[0m",
      "\u001b[1;31mAttributeError\u001b[0m                            Traceback (most recent call last)",
      "\u001b[1;32m<ipython-input-43-591abc15bf2a>\u001b[0m in \u001b[0;36m<module>\u001b[1;34m\u001b[0m\n\u001b[0;32m     16\u001b[0m \u001b[0ms\u001b[0m\u001b[1;33m=\u001b[0m\u001b[0mspecifiers\u001b[0m\u001b[1;33m(\u001b[0m\u001b[1;34m\"cuboid\"\u001b[0m\u001b[1;33m,\u001b[0m\u001b[1;34m\"red\"\u001b[0m\u001b[1;33m,\u001b[0m\u001b[1;36m40\u001b[0m\u001b[1;33m)\u001b[0m\u001b[1;33m\u001b[0m\u001b[0m\n\u001b[0;32m     17\u001b[0m \u001b[0ms\u001b[0m\u001b[1;33m.\u001b[0m\u001b[0mshow\u001b[0m\u001b[1;33m(\u001b[0m\u001b[1;33m)\u001b[0m\u001b[1;33m\u001b[0m\u001b[0m\n\u001b[1;32m---> 18\u001b[1;33m \u001b[0mc\u001b[0m\u001b[1;33m=\u001b[0m\u001b[0mchild\u001b[0m\u001b[1;33m(\u001b[0m\u001b[1;33m)\u001b[0m\u001b[1;33m\u001b[0m\u001b[0m\n\u001b[0m\u001b[0;32m     19\u001b[0m \u001b[0mc\u001b[0m\u001b[1;33m.\u001b[0m\u001b[0mshow\u001b[0m\u001b[1;33m(\u001b[0m\u001b[1;33m)\u001b[0m\u001b[1;33m\u001b[0m\u001b[0m\n\u001b[0;32m     20\u001b[0m \u001b[0mprint\u001b[0m\u001b[1;33m(\u001b[0m\u001b[0mshape\u001b[0m\u001b[1;33m)\u001b[0m \u001b[1;31m#not accessible as protected\u001b[0m\u001b[1;33m\u001b[0m\u001b[0m\n",
      "\u001b[1;32m<ipython-input-43-591abc15bf2a>\u001b[0m in \u001b[0;36m__init__\u001b[1;34m(self)\u001b[0m\n\u001b[0;32m     11\u001b[0m         \u001b[0mprint\u001b[0m\u001b[1;33m(\u001b[0m\u001b[0mself\u001b[0m\u001b[1;33m.\u001b[0m\u001b[0m_shape\u001b[0m\u001b[1;33m)\u001b[0m\u001b[1;33m\u001b[0m\u001b[0m\n\u001b[0;32m     12\u001b[0m         \u001b[0mprint\u001b[0m\u001b[1;33m(\u001b[0m\u001b[0mself\u001b[0m\u001b[1;33m.\u001b[0m\u001b[0mweight\u001b[0m\u001b[1;33m)\u001b[0m\u001b[1;33m\u001b[0m\u001b[0m\n\u001b[1;32m---> 13\u001b[1;33m         \u001b[0mprint\u001b[0m\u001b[1;33m(\u001b[0m\u001b[0mself\u001b[0m\u001b[1;33m.\u001b[0m\u001b[0m__color\u001b[0m\u001b[1;33m)\u001b[0m \u001b[1;31m#not accessible as private\u001b[0m\u001b[1;33m\u001b[0m\u001b[0m\n\u001b[0m\u001b[0;32m     14\u001b[0m \u001b[1;33m\u001b[0m\u001b[0m\n\u001b[0;32m     15\u001b[0m \u001b[1;33m\u001b[0m\u001b[0m\n",
      "\u001b[1;31mAttributeError\u001b[0m: 'child' object has no attribute '_child__color'"
     ]
    }
   ],
   "source": [
    "class specifiers:\n",
    "    def __init__(self,shape,color,weight):\n",
    "        self.weight=weight #public\n",
    "        self._shape=shape  #protected\n",
    "        self.__color=color #private\n",
    "    def show(self):\n",
    "        print(self._shape,self.__color,self.weight)\n",
    "class child(specifiers):\n",
    "    def __init__(self):\n",
    "        super().__init__(\"cube\",\"blue\",20)\n",
    "        print(self._shape)\n",
    "        print(self.weight)\n",
    "        print(self.__color) #not accessible as private\n",
    "       \n",
    "\n",
    "s=specifiers(\"cuboid\",\"red\",40)\n",
    "s.show()\n",
    "c=child()\n",
    "c.show()\n",
    "print(shape) #not accessible as protected\n",
    "print(color) #not accessible as private\n",
    "print(weight)"
   ]
  },
  {
   "cell_type": "code",
   "execution_count": null,
   "metadata": {},
   "outputs": [],
   "source": []
  },
  {
   "cell_type": "code",
   "execution_count": null,
   "metadata": {},
   "outputs": [],
   "source": []
  }
 ],
 "metadata": {
  "kernelspec": {
   "display_name": "Python 3",
   "language": "python",
   "name": "python3"
  },
  "language_info": {
   "codemirror_mode": {
    "name": "ipython",
    "version": 3
   },
   "file_extension": ".py",
   "mimetype": "text/x-python",
   "name": "python",
   "nbconvert_exporter": "python",
   "pygments_lexer": "ipython3",
   "version": "3.6.4"
  }
 },
 "nbformat": 4,
 "nbformat_minor": 4
}
