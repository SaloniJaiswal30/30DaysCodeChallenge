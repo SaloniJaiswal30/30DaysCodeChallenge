{
  "nbformat": 4,
  "nbformat_minor": 0,
  "metadata": {
    "colab": {
      "name": "Untitled0.ipynb",
      "provenance": []
    },
    "kernelspec": {
      "name": "python3",
      "display_name": "Python 3"
    },
    "language_info": {
      "name": "python"
    }
  },
  "cells": [
    {
      "cell_type": "code",
      "metadata": {
        "colab": {
          "base_uri": "https://localhost:8080/"
        },
        "id": "WYMNGsmGtyLQ",
        "outputId": "82fb8c2b-5aff-4abd-b958-eb3ab9ea4717"
      },
      "source": [
        "#multiprocessing\n",
        "import multiprocessing\n",
        "\n",
        "result=[]\n",
        "def add(x):\n",
        "    result.append(x)\n",
        "    print(result)\n",
        "\n",
        "def add_share(x):\n",
        "    result_share[0]=(x)\n",
        "    print(format(result_share[:]))\n",
        "p1=multiprocessing.Process(target=add,args=(33,))\n",
        "p1.start()\n",
        "print(result)\n",
        "\n",
        "result_share=multiprocessing.Array('i',4)\n",
        "p2=multiprocessing.Process(target=add_share,args=(33,))\n",
        "p2.start()\n",
        "p1.join()\n",
        "p2.join()\n",
        "print(format(result_share[:]))\n"
      ],
      "execution_count": 8,
      "outputs": [
        {
          "output_type": "stream",
          "text": [
            "[]\n",
            "[33]\n",
            "[33, 0, 0, 0]\n",
            "[33, 0, 0, 0]\n"
          ],
          "name": "stdout"
        }
      ]
    }
  ]
}