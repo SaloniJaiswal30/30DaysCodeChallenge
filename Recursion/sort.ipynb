{
  "nbformat": 4,
  "nbformat_minor": 0,
  "metadata": {
    "colab": {
      "name": "Untitled1.ipynb",
      "provenance": [],
      "collapsed_sections": []
    },
    "kernelspec": {
      "name": "python3",
      "display_name": "Python 3"
    },
    "language_info": {
      "name": "python"
    }
  },
  "cells": [
    {
      "cell_type": "code",
      "metadata": {
        "colab": {
          "base_uri": "https://localhost:8080/"
        },
        "id": "K16ooYG8ZsP-",
        "outputId": "16fef5ac-be4d-4f2b-ced7-ac1490995d0b"
      },
      "source": [
        "def insert(num,tmp):\n",
        "  if(len(num)==0 or num[-1]<=tmp):\n",
        "    num.append(tmp)\n",
        "    return\n",
        "  tmp2=num[-1]\n",
        "  num.pop()\n",
        "  insert(num,tmp)\n",
        "  num.append(tmp2)\n",
        "  \n",
        "def sort(num):\n",
        "  if(len(num)==1):\n",
        "    return num\n",
        "  tmp=num[-1]\n",
        "  num.pop()\n",
        "  #print(num)\n",
        "  sort(num)\n",
        "  insert(num,tmp)\n",
        "x=list(map(int,input().split()))\n",
        "sort(x)\n",
        "print(x)"
      ],
      "execution_count": 20,
      "outputs": [
        {
          "output_type": "stream",
          "text": [
            "8 4 9 1 7 0\n",
            "[0, 1, 4, 7, 8, 9]\n"
          ],
          "name": "stdout"
        }
      ]
    }
  ]
}