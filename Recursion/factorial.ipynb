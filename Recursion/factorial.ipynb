{
  "nbformat": 4,
  "nbformat_minor": 0,
  "metadata": {
    "colab": {
      "name": "Untitled1.ipynb",
      "provenance": []
    },
    "kernelspec": {
      "name": "python3",
      "display_name": "Python 3"
    },
    "language_info": {
      "name": "python"
    }
  },
  "cells": [
    {
      "cell_type": "code",
      "metadata": {
        "colab": {
          "base_uri": "https://localhost:8080/"
        },
        "id": "K16ooYG8ZsP-",
        "outputId": "9ffe4b98-175b-4be9-d59d-ba08d4113c3f"
      },
      "source": [
        "def factorial(num):\n",
        "  if(num==0 or num==1):\n",
        "    return 1\n",
        "  return num*factorial(num-1)\n",
        "\n",
        "x=int(input())\n",
        "print(factorial(x))"
      ],
      "execution_count": 12,
      "outputs": [
        {
          "output_type": "stream",
          "text": [
            "10\n",
            "3628800\n"
          ],
          "name": "stdout"
        }
      ]
    }
  ]
}